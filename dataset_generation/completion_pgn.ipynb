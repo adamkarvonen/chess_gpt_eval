{
 "cells": [
  {
   "cell_type": "code",
   "execution_count": 8,
   "metadata": {},
   "outputs": [
    {
     "name": "stdout",
     "output_type": "stream",
     "text": [
      "Shirov.pgn\n",
      "Nakamura.pgn\n",
      "PolgarS.pgn\n",
      "Adams.pgn\n",
      "Carlsen.pgn\n",
      "Fischer.pgn\n",
      "Nepomniachtchi.pgn\n",
      "Tal.pgn\n",
      "Shulman.pgn\n",
      "Ljubojevic.pgn\n",
      "GurevichD.pgn\n",
      "So.pgn\n",
      "Andersson.pgn\n",
      "VachierLagrave.pgn\n",
      "Karpov.pgn\n",
      "Bologan.pgn\n"
     ]
    }
   ],
   "source": [
    "import re\n",
    "import csv\n",
    "import os\n",
    "\n",
    "def extract_games_from_pgn(filename):\n",
    "    with open(filename, 'r') as file:\n",
    "        data = file.read()\n",
    "\n",
    "    # Regular expression to match the games without the scores\n",
    "    games = re.findall(r'\\b1\\.[^\\[]+?(?=\\s[01]/[012]-[01]/[012])', data, re.DOTALL)\n",
    "\n",
    "    \n",
    "    return games\n",
    "\n",
    "def save_to_csv(games, output_filename):\n",
    "    with open(output_filename, 'w', newline='') as file:\n",
    "        writer = csv.writer(file)\n",
    "        writer.writerow(['completion'])\n",
    "        for game in games:\n",
    "            writer.writerow([game.replace('\\n', ' ')])\n",
    "\n",
    "if __name__ == \"__main__\":\n",
    "    # List all files in the current directory with .pgn extension\n",
    "    pgn_files = [file for file in os.listdir() if file.endswith('.pgn')]\n",
    "    \n",
    "    all_games = []\n",
    "    \n",
    "    # Extract games from each pgn file and add to the all_games list\n",
    "    for pgn_file in pgn_files:\n",
    "        print(pgn_file)\n",
    "        games = extract_games_from_pgn(pgn_file)\n",
    "        all_games.extend(games)\n",
    "    \n",
    "    save_to_csv(all_games, 'games.csv')\n"
   ]
  },
  {
   "cell_type": "code",
   "execution_count": 9,
   "metadata": {},
   "outputs": [
    {
     "name": "stdout",
     "output_type": "stream",
     "text": [
      "count    20178.000000\n",
      "mean        41.206760\n",
      "std         20.353974\n",
      "min          0.000000\n",
      "25%         27.000000\n",
      "50%         39.000000\n",
      "75%         52.000000\n",
      "max        200.000000\n",
      "dtype: float64\n"
     ]
    },
    {
     "data": {
      "image/png": "[encoded data removed]",
      "text/plain": [
       "<Figure size 640x480 with 1 Axes>"
      ]
     },
     "metadata": {},
     "output_type": "display_data"
    }
   ],
   "source": [
    "import csv\n",
    "import pandas as pd\n",
    "import matplotlib.pyplot as plt\n",
    "\n",
    "# Read the CSV file\n",
    "def read_csv(filename):\n",
    "    with open(filename, 'r') as file:\n",
    "        reader = csv.reader(file)\n",
    "        next(reader)  # Skip the header\n",
    "        games = [row[0] for row in reader]\n",
    "    return games\n",
    "\n",
    "# Extract the number of moves from each game\n",
    "def get_moves_count(game):\n",
    "    # Split the game string by spaces and divide by 2 (because every 2 strings represent a move for white and black)\n",
    "    return len(game.split()) // 2\n",
    "\n",
    "# Analyze the distribution of game lengths\n",
    "def analyze_distribution(games):\n",
    "    moves_counts = [get_moves_count(game) for game in games]\n",
    "    \n",
    "    # Use pandas for statistical analysis\n",
    "    series = pd.Series(moves_counts)\n",
    "    print(series.describe())\n",
    "\n",
    "    # Plot the distribution\n",
    "    plt.hist(moves_counts, bins=range(1, series.max() + 2), align='left', edgecolor='black')\n",
    "    plt.xlabel('Number of Moves')\n",
    "    plt.ylabel('Number of Games')\n",
    "    plt.title('Distribution of Game Lengths')\n",
    "    plt.show()\n",
    "\n",
    "if __name__ == \"__main__\":\n",
    "    games = read_csv('games.csv')\n",
    "    analyze_distribution(games)\n"
   ]
  },
  {
   "cell_type": "code",
   "execution_count": 10,
   "metadata": {},
   "outputs": [
    {
     "name": "stdout",
     "output_type": "stream",
     "text": [
      "Conversion complete. Data written to chess_completions.jsonl\n"
     ]
    }
   ],
   "source": [
    "import pandas as pd\n",
    "import csv\n",
    "import json \n",
    "# File paths\n",
    "csv_path = 'games.csv'\n",
    "jsonl_path = 'chess_completions.jsonl'\n",
    "\n",
    "\n",
    "# Load the games.csv file\n",
    "df = pd.read_csv(csv_path)\n",
    "\n",
    "# Prefix text\n",
    "prefix = '[White \"Stockfish ELO 2700\"]\\n[Black \"Stockfish ELO 2700\"]\\n\\n'\n",
    "\n",
    "with open(csv_path, 'r') as csv_file, open(jsonl_path, 'w') as jsonl_file:\n",
    "    reader = csv.DictReader(csv_file)\n",
    "\n",
    "    for row in reader:\n",
    "        # Prepend the specified text to the completion and store in \"text\" key\n",
    "        completion_text = prefix + row['completion']\n",
    "\n",
    "        # Convert to JSON format with \"text\" as key\n",
    "        json_obj = {\"text\": completion_text}\n",
    "\n",
    "        # Write to jsonl file\n",
    "        jsonl_file.write(json.dumps(json_obj) + '\\n')\n",
    "\n",
    "print(f\"Conversion complete. Data written to {jsonl_path}\")\n"
   ]
  }
 ],
 "metadata": {
  "kernelspec": {
   "display_name": "openai",
   "language": "python",
   "name": "python3"
  },
  "language_info": {
   "codemirror_mode": {
    "name": "ipython",
    "version": 3
   },
   "file_extension": ".py",
   "mimetype": "text/x-python",
   "name": "python",
   "nbconvert_exporter": "python",
   "pygments_lexer": "ipython3",
   "version": "3.10.13"
  },
  "orig_nbformat": 4
 },
 "nbformat": 4,
 "nbformat_minor": 2
}
