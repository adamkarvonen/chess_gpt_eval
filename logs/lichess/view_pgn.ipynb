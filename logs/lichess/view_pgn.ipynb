{
 "cells": [
  {
   "cell_type": "code",
   "execution_count": 1,
   "metadata": {},
   "outputs": [
    {
     "name": "stdout",
     "output_type": "stream",
     "text": [
      "[Event \"Rated Bullet game\"]\n",
      "[Site \"https://lichess.org/BCsRv65B\"]\n",
      "[Date \"????.??.??\"]\n",
      "[Round \"?\"]\n",
      "[White \"RonaldUlyssesSwanson\"]\n",
      "[Black \"pablokosco\"]\n",
      "[Result \"1-0\"]\n",
      "[UTCDate \"2016.05.31\"]\n",
      "[UTCTime \"22:00:00\"]\n",
      "[WhiteElo \"1601\"]\n",
      "[BlackElo \"1793\"]\n",
      "[WhiteRatingDiff \"+16\"]\n",
      "[BlackRatingDiff \"-17\"]\n",
      "[ECO \"A02\"]\n",
      "[Opening \"Bird Opening\"]\n",
      "[TimeControl \"120+1\"]\n",
      "[Termination \"Time forfeit\"]\n",
      "\n",
      "1. f4 d6 2. Nf3 Nc6 3. b3 Nf6 4. Bb2 e6 5. e3 Be7 6. Bd3 a6 7. O-O O-O 8. Qe1\n",
      "d5 9. Nc3 b5 10. Ne2 Ne4 11. g4 Nb4 12. Bxe4 dxe4 13. Nfd4 f6 14. a3 Nd5 15.\n",
      "Nc6 Qd7 16. Nxe7+ Qxe7 17. Qg3 f5 18. gxf5 exf5 19. Nd4 c5 20. Nc6 Qc7 21. Be5\n",
      "Qf7 22. Bd6 Re8 23. Ne5 Qb7 24. Bxc5 Nf6 25. Bd4 Be6 26. Nc6 Nh5 27. Qg5 g6 28.\n",
      "Ne5 Rad8 29. Nxg6 Rxd4 30. Qxh5 hxg6 31. Qxg6+ Kf8 32. Qf6+ Qf7 33. Qxf7+ Kxf7\n",
      "34. exd4 Rd8 35. c3 a5 36. Rf2 b4 37. Rb1 bxa3 38. b4 a4 39. Ra1 a2 40. Rff1 a3\n",
      "41. Rfc1 Bc4 42. Rc2 Ra8 43. Rcxa2 1-0\n"
     ]
    }
   ],
   "source": [
    "import chess.pgn\n",
    "\n",
    "def load_game_from_pgn(file_path: str, game_number: int = 0) -> chess.pgn.Game:\n",
    "    \"\"\"\n",
    "    Load a specific game from a PGN file.\n",
    "\n",
    "    :param file_path: Path to the PGN file.\n",
    "    :param game_number: Index of the game to load (0 for the first game).\n",
    "    :return: The game object.\n",
    "    \"\"\"\n",
    "    with open(file_path, 'r') as pgn_file:\n",
    "        for _ in range(game_number):\n",
    "            chess.pgn.skip_game(pgn_file)\n",
    "\n",
    "        game = chess.pgn.read_game(pgn_file)\n",
    "        return game\n",
    "\n",
    "def get_pgn_string(game: chess.pgn.Game) -> str:\n",
    "    \"\"\"\n",
    "    Extract the PGN string from the game.\n",
    "\n",
    "    :param game: The game object.\n",
    "    :return: The PGN string of the game.\n",
    "    \"\"\"\n",
    "    exporter = chess.pgn.StringExporter(headers=True, variations=True, comments=True)\n",
    "    return game.accept(exporter)\n",
    "\n",
    "# Path to your PGN file\n",
    "pgn_file_path = 'lichess_db_standard_rated_2016-06.pgn'\n",
    "\n",
    "# Load the first game (index 0) from the PGN file\n",
    "game = load_game_from_pgn(pgn_file_path, 0)\n",
    "\n",
    "# Get the PGN string of the game\n",
    "pgn_string = get_pgn_string(game)\n",
    "\n",
    "# Print the PGN string\n",
    "print(pgn_string)\n"
   ]
  },
  {
   "cell_type": "code",
   "execution_count": 3,
   "metadata": {},
   "outputs": [
    {
     "name": "stderr",
     "output_type": "stream",
     "text": [
      "  0%|          | 33.3k/5.69G [00:00<4:53:00, 324kB/s]"
     ]
    },
    {
     "name": "stderr",
     "output_type": "stream",
     "text": [
      "  1%|          | 68.4M/5.69G [03:13<4:25:05, 353kB/s]\n"
     ]
    },
    {
     "ename": "KeyboardInterrupt",
     "evalue": "",
     "output_type": "error",
     "traceback": [
      "\u001b[0;31m---------------------------------------------------------------------------\u001b[0m",
      "\u001b[0;31mKeyboardInterrupt\u001b[0m                         Traceback (most recent call last)",
      "Cell \u001b[0;32mIn[3], line 42\u001b[0m\n\u001b[1;32m     39\u001b[0m pgn_file_path \u001b[38;5;241m=\u001b[39m \u001b[38;5;124m'\u001b[39m\u001b[38;5;124mlichess_db_standard_rated_2016-06.pgn\u001b[39m\u001b[38;5;124m'\u001b[39m\n\u001b[1;32m     41\u001b[0m \u001b[38;5;66;03m# Extract ELO ratings\u001b[39;00m\n\u001b[0;32m---> 42\u001b[0m elos \u001b[38;5;241m=\u001b[39m \u001b[43mextract_elos_from_pgn\u001b[49m\u001b[43m(\u001b[49m\u001b[43mpgn_file_path\u001b[49m\u001b[43m)\u001b[49m\n\u001b[1;32m     44\u001b[0m \u001b[38;5;66;03m# Plot the distribution\u001b[39;00m\n\u001b[1;32m     45\u001b[0m plot_elo_distribution(elos)\n",
      "Cell \u001b[0;32mIn[3], line 14\u001b[0m, in \u001b[0;36mextract_elos_from_pgn\u001b[0;34m(file_path)\u001b[0m\n\u001b[1;32m     12\u001b[0m \u001b[38;5;28;01mwhile\u001b[39;00m \u001b[38;5;28;01mTrue\u001b[39;00m:\n\u001b[1;32m     13\u001b[0m     start_position \u001b[38;5;241m=\u001b[39m pgn_file\u001b[38;5;241m.\u001b[39mtell()\n\u001b[0;32m---> 14\u001b[0m     game \u001b[38;5;241m=\u001b[39m \u001b[43mchess\u001b[49m\u001b[38;5;241;43m.\u001b[39;49m\u001b[43mpgn\u001b[49m\u001b[38;5;241;43m.\u001b[39;49m\u001b[43mread_game\u001b[49m\u001b[43m(\u001b[49m\u001b[43mpgn_file\u001b[49m\u001b[43m)\u001b[49m\n\u001b[1;32m     15\u001b[0m     \u001b[38;5;28;01mif\u001b[39;00m game \u001b[38;5;129;01mis\u001b[39;00m \u001b[38;5;28;01mNone\u001b[39;00m:\n\u001b[1;32m     16\u001b[0m         \u001b[38;5;28;01mbreak\u001b[39;00m  \u001b[38;5;66;03m# End of file\u001b[39;00m\n",
      "File \u001b[0;32m~/miniconda3/envs/openai/lib/python3.10/site-packages/chess/pgn.py:1731\u001b[0m, in \u001b[0;36mread_game\u001b[0;34m(handle, Visitor)\u001b[0m\n\u001b[1;32m   1729\u001b[0m \u001b[38;5;28;01mif\u001b[39;00m visitor\u001b[38;5;241m.\u001b[39mbegin_parse_san(board_stack[\u001b[38;5;241m-\u001b[39m\u001b[38;5;241m1\u001b[39m], token) \u001b[38;5;129;01mis\u001b[39;00m \u001b[38;5;129;01mnot\u001b[39;00m SKIP:\n\u001b[1;32m   1730\u001b[0m     \u001b[38;5;28;01mtry\u001b[39;00m:\n\u001b[0;32m-> 1731\u001b[0m         move \u001b[38;5;241m=\u001b[39m \u001b[43mvisitor\u001b[49m\u001b[38;5;241;43m.\u001b[39;49m\u001b[43mparse_san\u001b[49m\u001b[43m(\u001b[49m\u001b[43mboard_stack\u001b[49m\u001b[43m[\u001b[49m\u001b[38;5;241;43m-\u001b[39;49m\u001b[38;5;241;43m1\u001b[39;49m\u001b[43m]\u001b[49m\u001b[43m,\u001b[49m\u001b[43m \u001b[49m\u001b[43mtoken\u001b[49m\u001b[43m)\u001b[49m\n\u001b[1;32m   1732\u001b[0m     \u001b[38;5;28;01mexcept\u001b[39;00m \u001b[38;5;167;01mValueError\u001b[39;00m \u001b[38;5;28;01mas\u001b[39;00m error:\n\u001b[1;32m   1733\u001b[0m         visitor\u001b[38;5;241m.\u001b[39mhandle_error(error)\n",
      "File \u001b[0;32m~/miniconda3/envs/openai/lib/python3.10/site-packages/chess/pgn.py:1104\u001b[0m, in \u001b[0;36mBaseVisitor.parse_san\u001b[0;34m(self, board, san)\u001b[0m\n\u001b[1;32m   1090\u001b[0m \u001b[38;5;28;01mdef\u001b[39;00m \u001b[38;5;21mparse_san\u001b[39m(\u001b[38;5;28mself\u001b[39m, board: chess\u001b[38;5;241m.\u001b[39mBoard, san: \u001b[38;5;28mstr\u001b[39m) \u001b[38;5;241m-\u001b[39m\u001b[38;5;241m>\u001b[39m chess\u001b[38;5;241m.\u001b[39mMove:\n\u001b[1;32m   1091\u001b[0m \u001b[38;5;250m    \u001b[39m\u001b[38;5;124;03m\"\"\"\u001b[39;00m\n\u001b[1;32m   1092\u001b[0m \u001b[38;5;124;03m    When the visitor is used by a parser, this is called to parse a move\u001b[39;00m\n\u001b[1;32m   1093\u001b[0m \u001b[38;5;124;03m    in standard algebraic notation.\u001b[39;00m\n\u001b[0;32m   (...)\u001b[0m\n\u001b[1;32m   1102\u001b[0m \u001b[38;5;124;03m        they can be handled for everyone.\u001b[39;00m\n\u001b[1;32m   1103\u001b[0m \u001b[38;5;124;03m    \"\"\"\u001b[39;00m\n\u001b[0;32m-> 1104\u001b[0m     \u001b[38;5;28;01mreturn\u001b[39;00m \u001b[43mboard\u001b[49m\u001b[38;5;241;43m.\u001b[39;49m\u001b[43mparse_san\u001b[49m\u001b[43m(\u001b[49m\u001b[43msan\u001b[49m\u001b[43m)\u001b[49m\n",
      "File \u001b[0;32m~/miniconda3/envs/openai/lib/python3.10/site-packages/chess/__init__.py:3077\u001b[0m, in \u001b[0;36mBoard.parse_san\u001b[0;34m(self, san)\u001b[0m\n\u001b[1;32m   3075\u001b[0m \u001b[38;5;66;03m# Match legal moves.\u001b[39;00m\n\u001b[1;32m   3076\u001b[0m matched_move \u001b[38;5;241m=\u001b[39m \u001b[38;5;28;01mNone\u001b[39;00m\n\u001b[0;32m-> 3077\u001b[0m \u001b[38;5;28;01mfor\u001b[39;00m move \u001b[38;5;129;01min\u001b[39;00m \u001b[38;5;28mself\u001b[39m\u001b[38;5;241m.\u001b[39mgenerate_legal_moves(from_mask, to_mask):\n\u001b[1;32m   3078\u001b[0m     \u001b[38;5;28;01mif\u001b[39;00m move\u001b[38;5;241m.\u001b[39mpromotion \u001b[38;5;241m!=\u001b[39m promotion:\n\u001b[1;32m   3079\u001b[0m         \u001b[38;5;28;01mcontinue\u001b[39;00m\n",
      "File \u001b[0;32m~/miniconda3/envs/openai/lib/python3.10/site-packages/chess/__init__.py:3596\u001b[0m, in \u001b[0;36mBoard.generate_legal_moves\u001b[0;34m(self, from_mask, to_mask)\u001b[0m\n\u001b[1;32m   3594\u001b[0m             \u001b[38;5;28;01myield\u001b[39;00m move\n\u001b[1;32m   3595\u001b[0m \u001b[38;5;28;01melse\u001b[39;00m:\n\u001b[0;32m-> 3596\u001b[0m     \u001b[38;5;28;01mfor\u001b[39;00m move \u001b[38;5;129;01min\u001b[39;00m \u001b[38;5;28mself\u001b[39m\u001b[38;5;241m.\u001b[39mgenerate_pseudo_legal_moves(from_mask, to_mask):\n\u001b[1;32m   3597\u001b[0m         \u001b[38;5;28;01mif\u001b[39;00m \u001b[38;5;28mself\u001b[39m\u001b[38;5;241m.\u001b[39m_is_safe(king, blockers, move):\n\u001b[1;32m   3598\u001b[0m             \u001b[38;5;28;01myield\u001b[39;00m move\n",
      "File \u001b[0;32m~/miniconda3/envs/openai/lib/python3.10/site-packages/chess/__init__.py:1713\u001b[0m, in \u001b[0;36mBoard.generate_pseudo_legal_moves\u001b[0;34m(self, from_mask, to_mask)\u001b[0m\n\u001b[1;32m   1711\u001b[0m \u001b[38;5;28;01mfor\u001b[39;00m from_square \u001b[38;5;129;01min\u001b[39;00m scan_reversed(non_pawns):\n\u001b[1;32m   1712\u001b[0m     moves \u001b[38;5;241m=\u001b[39m \u001b[38;5;28mself\u001b[39m\u001b[38;5;241m.\u001b[39mattacks_mask(from_square) \u001b[38;5;241m&\u001b[39m \u001b[38;5;241m~\u001b[39mour_pieces \u001b[38;5;241m&\u001b[39m to_mask\n\u001b[0;32m-> 1713\u001b[0m     \u001b[38;5;28;01mfor\u001b[39;00m to_square \u001b[38;5;129;01min\u001b[39;00m scan_reversed(moves):\n\u001b[1;32m   1714\u001b[0m         \u001b[38;5;28;01myield\u001b[39;00m Move(from_square, to_square)\n\u001b[1;32m   1716\u001b[0m \u001b[38;5;66;03m# Generate castling moves.\u001b[39;00m\n",
      "File \u001b[0;32m~/miniconda3/envs/openai/lib/python3.10/site-packages/chess/__init__.py:317\u001b[0m, in \u001b[0;36mscan_reversed\u001b[0;34m(bb)\u001b[0m\n\u001b[1;32m    315\u001b[0m \u001b[38;5;28;01mwhile\u001b[39;00m bb:\n\u001b[1;32m    316\u001b[0m     r \u001b[38;5;241m=\u001b[39m bb\u001b[38;5;241m.\u001b[39mbit_length() \u001b[38;5;241m-\u001b[39m \u001b[38;5;241m1\u001b[39m\n\u001b[0;32m--> 317\u001b[0m     \u001b[38;5;28;01myield\u001b[39;00m r\n\u001b[1;32m    318\u001b[0m     bb \u001b[38;5;241m^\u001b[39m\u001b[38;5;241m=\u001b[39m BB_SQUARES[r]\n",
      "\u001b[0;31mKeyboardInterrupt\u001b[0m: "
     ]
    }
   ],
   "source": [
    "import chess.pgn\n",
    "import matplotlib.pyplot as plt\n",
    "from tqdm import tqdm\n",
    "import os\n",
    "\n",
    "def extract_elos_from_pgn(file_path: str):\n",
    "    elos = []\n",
    "    file_size = os.path.getsize(file_path)\n",
    "\n",
    "    with open(file_path, 'r') as pgn_file:\n",
    "        with tqdm(total=file_size, unit='B', unit_scale=True) as pbar:\n",
    "            while True:\n",
    "                start_position = pgn_file.tell()\n",
    "                game = chess.pgn.read_game(pgn_file)\n",
    "                if game is None:\n",
    "                    break  # End of file\n",
    "\n",
    "                end_position = pgn_file.tell()\n",
    "                pbar.update(end_position - start_position)\n",
    "\n",
    "                white_elo = game.headers.get('WhiteElo', None)\n",
    "                black_elo = game.headers.get('BlackElo', None)\n",
    "\n",
    "                if white_elo is not None and white_elo.isdigit():\n",
    "                    elos.append(int(white_elo))\n",
    "                if black_elo is not None and black_elo.isdigit():\n",
    "                    elos.append(int(black_elo))\n",
    "\n",
    "    return elos\n",
    "\n",
    "def plot_elo_distribution(elos: list):\n",
    "    plt.hist(elos, bins=20, color='blue', alpha=0.7)\n",
    "    plt.title('Distribution of ELO Ratings')\n",
    "    plt.xlabel('ELO Rating')\n",
    "    plt.ylabel('Frequency')\n",
    "    plt.show()\n",
    "\n",
    "# Path to your PGN file\n",
    "pgn_file_path = 'lichess_db_standard_rated_2016-06.pgn'\n",
    "\n",
    "# Extract ELO ratings\n",
    "elos = extract_elos_from_pgn(pgn_file_path)\n",
    "\n",
    "# Plot the distribution\n",
    "plot_elo_distribution(elos)\n"
   ]
  },
  {
   "cell_type": "code",
   "execution_count": 7,
   "metadata": {},
   "outputs": [
    {
     "name": "stdout",
     "output_type": "stream",
     "text": [
      "Smaller PGN file created with 10,000 games.\n"
     ]
    }
   ],
   "source": [
    "import chess.pgn\n",
    "\n",
    "def create_smaller_pgn(input_file_path: str, output_file_path: str, max_games: int):\n",
    "    \"\"\"\n",
    "    Create a smaller PGN file with a specified number of games.\n",
    "\n",
    "    :param input_file_path: Path to the original large PGN file.\n",
    "    :param output_file_path: Path where the smaller PGN file will be saved.\n",
    "    :param max_games: Maximum number of games to include in the smaller file.\n",
    "    \"\"\"\n",
    "    with open(input_file_path, 'r') as input_file, open(output_file_path, 'w') as output_file:\n",
    "        for _ in range(max_games):\n",
    "            game = chess.pgn.read_game(input_file)\n",
    "            if game is None:\n",
    "                break  # End of file reached\n",
    "            output_file.write(str(game) + \"\\n\\n\")\n",
    "\n",
    "# Paths for the input and output files\n",
    "input_pgn_file_path = 'lichess_db_standard_rated_2016-06.pgn'\n",
    "output_pgn_file_path = 'smaller_pgn_file.pgn'\n",
    "\n",
    "# Create a smaller PGN file with the first 10,000 games\n",
    "create_smaller_pgn(input_pgn_file_path, output_pgn_file_path, 1000)\n",
    "\n",
    "print(\"Smaller PGN file created with 10,000 games.\")\n"
   ]
  },
  {
   "cell_type": "code",
   "execution_count": 11,
   "metadata": {},
   "outputs": [
    {
     "name": "stderr",
     "output_type": "stream",
     "text": [
      "5425it [00:12, 421.72it/s]                          "
     ]
    },
    {
     "name": "stdout",
     "output_type": "stream",
     "text": [
      "Extracted ELOs for 6136221 games.\n"
     ]
    },
    {
     "name": "stderr",
     "output_type": "stream",
     "text": [
      "\n"
     ]
    }
   ],
   "source": [
    "import re\n",
    "import os\n",
    "from tqdm import tqdm\n",
    "\n",
    "def find_games_and_elos(file_path: str, max_games: int = None):\n",
    "    \"\"\"\n",
    "    Extract games and ELO ratings using regex.\n",
    "\n",
    "    :param file_path: Path to the PGN file.\n",
    "    :param max_games: Maximum number of games to process (None for all).\n",
    "    :return: List of ELO ratings.\n",
    "    \"\"\"\n",
    "    game_pattern = re.compile(r'\\[WhiteElo \"(\\d+)\"\\]\\s*\\[BlackElo \"(\\d+)\"\\]')\n",
    "    elos = []\n",
    "\n",
    "    with open(file_path, 'rb') as file:\n",
    "        file_size = os.path.getsize(file_path)\n",
    "        chunk_size = 1024 * 1024  # 1 MB chunks\n",
    "\n",
    "        for _ in tqdm(range(0, file_size, chunk_size), total=file_size // chunk_size):\n",
    "            chunk = file.read(chunk_size).decode('utf-8', errors='ignore')\n",
    "            matches = game_pattern.findall(chunk)\n",
    "            for white_elo, black_elo in matches:\n",
    "                elos.extend([int(white_elo), int(black_elo)])\n",
    "                if max_games and len(elos) // 2 >= max_games:\n",
    "                    return elos[:max_games * 2]\n",
    "\n",
    "    return elos\n",
    "\n",
    "# Path to your PGN file\n",
    "pgn_file_path = 'lichess_db_standard_rated_2016-06.pgn'\n",
    "\n",
    "# Find games and ELOs, modify max_games as needed\n",
    "elos = find_games_and_elos(pgn_file_path, max_games=10000000)\n",
    "\n",
    "print(f\"Extracted ELOs for {len(elos)//2} games.\")\n"
   ]
  },
  {
   "cell_type": "code",
   "execution_count": 12,
   "metadata": {},
   "outputs": [
    {
     "data": {
      "image/png": "[encoded data removed]",
      "text/plain": [
       "<Figure size 1000x600 with 1 Axes>"
      ]
     },
     "metadata": {},
     "output_type": "display_data"
    }
   ],
   "source": [
    "import matplotlib.pyplot as plt\n",
    "\n",
    "def plot_elo_distribution(elos: list):\n",
    "    \"\"\"\n",
    "    Plot the distribution of ELO ratings.\n",
    "\n",
    "    :param elos: List of ELO ratings.\n",
    "    \"\"\"\n",
    "    plt.figure(figsize=(10, 6))\n",
    "    plt.hist(elos, bins=50, color='blue', alpha=0.7)\n",
    "    plt.title('Distribution of ELO Ratings')\n",
    "    plt.xlabel('ELO Rating')\n",
    "    plt.ylabel('Frequency')\n",
    "    plt.grid(True)\n",
    "    plt.show()\n",
    "\n",
    "# Assuming elos is the list of ELO ratings you obtained\n",
    "plot_elo_distribution(elos)\n"
   ]
  },
  {
   "cell_type": "code",
   "execution_count": 17,
   "metadata": {},
   "outputs": [
    {
     "name": "stderr",
     "output_type": "stream",
     "text": [
      "Processing games: 1000it [00:05, 193.77it/s]                        \n"
     ]
    }
   ],
   "source": [
    "import chess.pgn\n",
    "import csv\n",
    "import re\n",
    "import os\n",
    "from tqdm import tqdm\n",
    "\n",
    "def write_pgn_to_csv(pgn_file_path: str, csv_file_path: str, total_games_estimate: int):\n",
    "    \"\"\"\n",
    "    Extract White ELO, Black ELO, and PGN string from a .pgn file, transform the PGN string,\n",
    "    and store them in a CSV file.\n",
    "\n",
    "    :param pgn_file_path: Path to the .pgn file.\n",
    "    :param csv_file_path: Path to the output CSV file.\n",
    "    :param total_games_estimate: Estimated total number of games in the PGN file.\n",
    "    \"\"\"\n",
    "    with open(pgn_file_path, \"r\") as pgn_file, open(\n",
    "        csv_file_path, \"w\", newline=\"\", encoding=\"utf-8\"\n",
    "    ) as csv_file:\n",
    "        writer = csv.writer(csv_file)\n",
    "        writer.writerow([\"WhiteELO\", \"BlackELO\", \"PGN\"])\n",
    "\n",
    "        pbar = tqdm(total=total_games_estimate, desc=\"Processing games\")\n",
    "        while True:\n",
    "            game = chess.pgn.read_game(pgn_file)\n",
    "            if game is None:\n",
    "                break  # End of file reached\n",
    "\n",
    "            white_elo = game.headers.get(\"WhiteElo\", \"NA\")\n",
    "            black_elo = game.headers.get(\"BlackElo\", \"NA\")\n",
    "            result = game.headers.get(\"Result\", \"NA\")\n",
    "\n",
    "            # Extracting the game moves and transforming the format\n",
    "            game_moves = game.board().variation_san(game.mainline_moves())\n",
    "            if len(game_moves) < 150:\n",
    "                pbar.update(1)\n",
    "                continue\n",
    "            transformed_game_moves = re.sub(r\"(\\d+)\\.\\s+\", r\"\\1.\", game_moves)\n",
    "\n",
    "            writer.writerow([white_elo, black_elo, result, transformed_game_moves])\n",
    "            pbar.update(1)\n",
    "        pbar.close()\n",
    "\n",
    "# Path to your PGN file and output CSV file\n",
    "# pgn_file_path = \"lichess_db_standard_rated_2016-06.pgn\"\n",
    "pgn_file_path = 'smaller_pgn_file.pgn'\n",
    "csv_file_path = \"output.csv\"\n",
    "\n",
    "# Estimated total number of games based on file size\n",
    "total_games_estimate = int(os.path.getsize(pgn_file_path) / (6.4 * 1024**3) * 6100000)\n",
    "\n",
    "\n",
    "write_pgn_to_csv(pgn_file_path, csv_file_path, total_games_estimate)\n"
   ]
  },
  {
   "cell_type": "code",
   "execution_count": 6,
   "metadata": {},
   "outputs": [
    {
     "data": {
      "text/plain": [
       "['WhiteElo,BlackElo,Result,transcript\\n',\n",
       " '1601,1793,1-0,1.f4 d6 2.Nf3 Nc6 3.b3 Nf6 4.Bb2 e6 5.e3 Be7 6.Bd3 a6 7.O-O O-O 8.Qe1 d5 9.Nc3 b5 10.Ne2 Ne4 11.g4 Nb4 12.Bxe4 dxe4 13.Nfd4 f6 14.a3 Nd5 15.Nc6 Qd7 16.Nxe7+ Qxe7 17.Qg3 f5 18.gxf5 exf5 19.Nd4 c5 20.Nc6 Qc7 21.Be5 Qf7 22.Bd6 Re8 23.Ne5 Qb7 24.Bxc5 Nf6 25.Bd4 Be6 26.Nc6 Nh5 27.Qg5 g6 28.Ne5 Rad8 29.Nxg6 Rxd4 30.Qxh5 hxg6 31.Qxg6+ Kf8 32.Qf6+ Qf7 33.Qxf7+ Kxf7 34.exd4 Rd8 35.c3 a5 36.Rf2 b4 37.Rb1 bxa3 38.b4 a4 39.Ra1 a2 40.Rff1 a3 41.Rfc1 Bc4 42.Rc2 Ra8 43.Rcxa2 1-0\\n',\n",
       " '1532,1541,0-1,1.e4 e5 2.Nf3 Nc6 3.d4 exd4 4.Nxd4 Nxd4 5.Qxd4 d6 6.Nc3 h6 7.e5 Be7 8.exd6 Bxd6 9.Qxg7 Qe7+ 10.Be2 Be5 11.Nd5 Bxg7 12.Nxe7 Nxe7 13.O-O Be6 14.Re1 O-O-O 15.c4 Kb8 16.c5 Bd4 17.Be3 Bxb2 18.Rab1 Bf6 19.c6 Nxc6 20.Bf3 Bd5 21.Bxd5 Rxd5 22.a4 Rhd8 23.Bxh6 Bc3 24.Rec1 Bd2 25.Bxd2 Rxd2 26.h3 Ne5 27.Kh2 Rxf2 28.Rd1 Rxd1 29.Rxd1 b6 30.Rd8+ Kb7 31.Re8 f6 32.Kg3 Ra2 33.Rf8 Nd7 34.Rf7 Kc6 35.h4 Rxa4 36.h5 Ne5 37.h6 Nxf7 38.h7 Rb4 39.Kh3 a5 40.g4 a4 41.Kh4 a3 42.Kh5 a2 43.Kg6 Nh8+ 44.Kg7 a1=Q 45.Kxh8 f5+ 46.Kg8 Rxg4+ 47.Kf7 Qg7+ 48.Ke6 f4 49.Kf5 f3 50.Ke6 f2 51.Kf5 f1=Q+ 52.Ke6 Qff6# 0-1\\n',\n",
       " '1646,1639,1-0,1.e4 e5 2.Nf3 Nc6 3.Nc3 d6 4.Bc4 Bg4 5.Nxe5 Bxd1 6.Bxf7+ Ke7 7.Nd5# 1-0\\n',\n",
       " '1757,1659,0-1,1.e4 c6 2.Bc4 d5 3.exd5 cxd5 4.Bb3 Nc6 5.d4 Nf6 6.c3 Bg4 7.Nf3 e6 8.h3 Bh5 9.Bg5 Be7 10.O-O O-O 11.g4 Bg6 12.Nbd2 Qa5 13.Bc2 Bxc2 14.Qxc2 Rac8 15.Bh4 b5 16.a4 b4 17.Nb1 bxc3 18.bxc3 Ne4 19.Bxe7 Nxe7 20.Nfd2 Nxc3 21.Nxc3 Rxc3 22.Nb3 Qc7 23.Qb2 Rxh3 24.Nc5 Qh2# 0-1\\n']"
      ]
     },
     "execution_count": 6,
     "metadata": {},
     "output_type": "execute_result"
    }
   ],
   "source": [
    "# Refined function for manual parsing to correctly extract only the required information\n",
    "def refined_parse_pgn_to_csv(pgn_file_path: str, csv_file_path: str):\n",
    "    with open(pgn_file_path, \"r\", encoding=\"utf-8\") as pgn_file, \\\n",
    "         open(csv_file_path, \"w\", newline=\"\", encoding=\"utf-8\") as csv_file:\n",
    "        writer = csv.writer(csv_file)\n",
    "        writer.writerow([\"WhiteElo\", \"BlackElo\", \"Result\", \"transcript\"])\n",
    "\n",
    "        white_elo, black_elo, result, game_moves = '', '', '', ''\n",
    "        reading_moves = False\n",
    "\n",
    "        for line in pgn_file:\n",
    "            if line.startswith('[WhiteElo \"'):\n",
    "                white_elo = line.split('\"')[1]\n",
    "            elif line.startswith('[BlackElo \"'):\n",
    "                black_elo = line.split('\"')[1]\n",
    "            elif line.startswith('[Result \"'):\n",
    "                result = line.split('\"')[1]\n",
    "            elif line.strip() == '':\n",
    "                if reading_moves and game_moves.strip():\n",
    "                    # Process game moves\n",
    "                    transformed_game_moves = re.sub(r\"(\\d+)\\.\\s+\", r\"\\1.\", game_moves.strip())\n",
    "                    writer.writerow([white_elo, black_elo, result, transformed_game_moves])\n",
    "                    white_elo, black_elo, result, game_moves = '', '', '', ''\n",
    "                    reading_moves = False\n",
    "            elif not line.startswith('[') and reading_moves:\n",
    "                game_moves += line\n",
    "            elif line.startswith('1. '):\n",
    "                reading_moves = True\n",
    "                game_moves = line\n",
    "\n",
    "# File paths for refined parsing\n",
    "csv_file_path_refined = pgn_file_path.replace(\".pgn\", \"_refined.csv\")\n",
    "\n",
    "# Process the PGN file with the refined parsing function\n",
    "refined_parse_pgn_to_csv(pgn_file_path, csv_file_path_refined)\n",
    "\n",
    "# Read the first few lines of the generated CSV to verify\n",
    "with open(csv_file_path_refined, \"r\") as csv_file:\n",
    "    preview_refined = [next(csv_file) for _ in range(5)]\n",
    "preview_refined\n"
   ]
  },
  {
   "cell_type": "code",
   "execution_count": 7,
   "metadata": {},
   "outputs": [
    {
     "name": "stdout",
     "output_type": "stream",
     "text": [
      "10829490\n"
     ]
    }
   ],
   "source": [
    "import pandas as pd\n",
    "\n",
    "df = pd.read_csv('lichess_db_standard_rated_2017-05.csv')\n",
    "\n",
    "print(len(df))"
   ]
  }
 ],
 "metadata": {
  "kernelspec": {
   "display_name": "openai",
   "language": "python",
   "name": "python3"
  },
  "language_info": {
   "codemirror_mode": {
    "name": "ipython",
    "version": 3
   },
   "file_extension": ".py",
   "mimetype": "text/x-python",
   "name": "python",
   "nbconvert_exporter": "python",
   "pygments_lexer": "ipython3",
   "version": "3.10.13"
  }
 },
 "nbformat": 4,
 "nbformat_minor": 2
}
