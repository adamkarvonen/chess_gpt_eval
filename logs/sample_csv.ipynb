{
 "cells": [
  {
   "cell_type": "code",
   "execution_count": 1,
   "metadata": {},
   "outputs": [],
   "source": [
    "import pandas as pd\n",
    "\n",
    "# Constants\n",
    "input_file = 'lichess_6gb.csv'\n",
    "output_file = 'lichess_600mb.csv'\n",
    "chunk_size = 100000  # Adjust this based on your machine's memory capacity\n",
    "sample_fraction = 0.1  # 10% of the data\n",
    "\n",
    "# Create a CSV reader object\n",
    "reader = pd.read_csv(input_file, chunksize=chunk_size, low_memory=False)\n",
    "\n",
    "# Process each chunk\n",
    "with open(output_file, 'w', newline='') as f:\n",
    "    for i, chunk in enumerate(reader):\n",
    "        # Sample 10% of each chunk\n",
    "        sample = chunk.sample(frac=sample_fraction)\n",
    "        # Write the sample to the new file, without header for chunks after the first\n",
    "        sample.to_csv(f, index=False, header=i == 0, mode='a')\n"
   ]
  },
  {
   "cell_type": "code",
   "execution_count": 1,
   "metadata": {},
   "outputs": [],
   "source": [
    "import pandas as pd\n",
    "\n",
    "def process_csv(input_file: str, output_file: str) -> None:\n",
    "    \"\"\"\n",
    "    Processes the given CSV file and creates a new CSV file with modified transcript.\n",
    "\n",
    "    Args:\n",
    "    input_file (str): The path to the input CSV file.\n",
    "    output_file (str): The path to the output CSV file.\n",
    "    \"\"\"\n",
    "    # Load the CSV file\n",
    "    df = pd.read_csv(input_file)\n",
    "\n",
    "    # Modify the 'transcript' column\n",
    "    # df['Result'] = df['Result'].str.replace(\"/\", \"\").replace(\"*\", \"0-0\")\n",
    "    df['transcript'] = df['Result'].str.replace(\"/\", \"\").replace(\"*\", \"0-0\") + \"#\" + df['transcript']\n",
    "\n",
    "    # Write the modified dataframe to a new CSV file\n",
    "    df.to_csv(output_file, index=False)\n",
    "\n",
    "# Using the function\n",
    "process_csv('lichess_6gb.csv', 'lichess_6gb_results.csv')\n"
   ]
  }
 ],
 "metadata": {
  "kernelspec": {
   "display_name": "openai",
   "language": "python",
   "name": "python3"
  },
  "language_info": {
   "codemirror_mode": {
    "name": "ipython",
    "version": 3
   },
   "file_extension": ".py",
   "mimetype": "text/x-python",
   "name": "python",
   "nbconvert_exporter": "python",
   "pygments_lexer": "ipython3",
   "version": "3.10.13"
  }
 },
 "nbformat": 4,
 "nbformat_minor": 2
}
