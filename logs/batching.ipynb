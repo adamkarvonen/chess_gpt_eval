{
 "cells": [
  {
   "cell_type": "code",
   "execution_count": 1,
   "metadata": {},
   "outputs": [],
   "source": [
    "import pandas as pd\n",
    "\n",
    "# Create an input dataset containing only the transcript column and stripping the PGN header\n",
    "\n",
    "def transform_text(text):\n",
    "    new_text = text.split('\\n\\n')[1].strip()\n",
    "    return new_text[:1023]\n",
    "\n",
    "input_file = 'full_dataset.csv'\n",
    "\n",
    "df = pd.read_csv(input_file, usecols=['transcript'])\n",
    "\n",
    "df['transcript'] = df['transcript'].apply(transform_text)\n",
    "\n",
    "df.to_csv('input_dataset.csv', index=False)\n",
    "\n"
   ]
  },
  {
   "cell_type": "code",
   "execution_count": 2,
   "metadata": {},
   "outputs": [],
   "source": [
    "import pandas as pd\n",
    "\n",
    "df = pd.read_csv('input_dataset.csv', usecols=['transcript'])\n",
    "df['length'] = df['transcript'].apply(len)\n",
    "\n",
    "df.sort_values(by='length', inplace=True)\n",
    "df.to_csv('input_dataset.csv', index=False)"
   ]
  },
  {
   "cell_type": "code",
   "execution_count": 3,
   "metadata": {},
   "outputs": [],
   "source": [
    "import pandas as pd\n",
    "\n",
    "# Read the CSV file\n",
    "df = pd.read_csv('input_dataset.csv')\n",
    "\n",
    "# Randomly sample 10000 rows\n",
    "sampled_df = df.sample(n=10000)\n",
    "\n",
    "# Sort the sampled DataFrame by the length of the 'transcript' column\n",
    "sampled_df.sort_values(by='transcript', key=lambda x: x.str.len(), ascending=True, inplace=True)\n",
    "\n",
    "# Save the sampled and sorted DataFrame to a new CSV file\n",
    "sampled_df.to_csv('test_input_dataset.csv', index=False)\n"
   ]
  },
  {
   "cell_type": "code",
   "execution_count": 4,
   "metadata": {},
   "outputs": [],
   "source": [
    "import pandas as pd\n",
    "import random\n",
    "\n",
    "# Read the CSV file\n",
    "df = pd.read_csv('test_input_dataset.csv')\n",
    "\n",
    "# Prepare the new dataset for blocks\n",
    "blocks = []\n",
    "remaining_games = df['transcript'].tolist()\n",
    "\n",
    "# Block size limit\n",
    "block_size = 1024\n",
    "\n",
    "while remaining_games:\n",
    "    block = ';'\n",
    "    # Select the next game\n",
    "    next_game = remaining_games.pop()\n",
    "    block += next_game\n",
    "    while len(block) < block_size and remaining_games:\n",
    "        next_game = remaining_games.pop(0)\n",
    "        block += ';' + next_game\n",
    "        if len(block) > block_size:\n",
    "            # If the game makes the block too long, re-add it to the dataset\n",
    "            if len(df) > 100:\n",
    "                remaining_games.insert(99, next_game)\n",
    "            else:\n",
    "                remaining_games.insert(0, next_game)\n",
    "            break\n",
    "\n",
    "    if len(block) >= block_size:\n",
    "        # Add the block to the blocks list\n",
    "        blocks.append(block[:block_size])\n",
    "\n",
    "# Create a new DataFrame for the blocks\n",
    "blocks_df = pd.DataFrame(blocks, columns=['transcript'])\n",
    "\n",
    "# Save the blocks to a new CSV file\n",
    "blocks_df.to_csv('chess_blocks.csv', index=False)\n",
    "\n",
    "# Save the remaining games to the original file\n",
    "# remaining_df = pd.DataFrame(remaining_games, columns=['transcript'])\n",
    "# remaining_df.to_csv('input_dataset.csv', index=False)\n"
   ]
  },
  {
   "cell_type": "code",
   "execution_count": 5,
   "metadata": {},
   "outputs": [
    {
     "name": "stdout",
     "output_type": "stream",
     "text": [
      "count    5869.000000\n",
      "mean     1023.912592\n",
      "std         6.696306\n",
      "min       511.000000\n",
      "25%      1024.000000\n",
      "50%      1024.000000\n",
      "75%      1024.000000\n",
      "max      1024.000000\n",
      "Name: length, dtype: float64\n"
     ]
    }
   ],
   "source": [
    "import pandas as pd\n",
    "\n",
    "df = pd.read_csv('chess_blocks.csv')\n",
    "df['length'] = df['transcript'].apply(len)\n",
    "print(df['length'].describe())"
   ]
  }
 ],
 "metadata": {
  "kernelspec": {
   "display_name": "openai",
   "language": "python",
   "name": "python3"
  },
  "language_info": {
   "codemirror_mode": {
    "name": "ipython",
    "version": 3
   },
   "file_extension": ".py",
   "mimetype": "text/x-python",
   "name": "python",
   "nbconvert_exporter": "python",
   "pygments_lexer": "ipython3",
   "version": "3.10.13"
  }
 },
 "nbformat": 4,
 "nbformat_minor": 2
}
