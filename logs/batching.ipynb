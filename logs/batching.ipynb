{
 "cells": [
  {
   "cell_type": "markdown",
   "metadata": {},
   "source": [
    "This transforms a file containing a bunch of PGNs to a collection of len 1024 batches that begin with a delimiter token \";\".\n",
    "Note that stockfish data has a couple of [player_one][player_two], two newlines, and then the PGN transcript."
   ]
  },
  {
   "cell_type": "code",
   "execution_count": null,
   "metadata": {},
   "outputs": [],
   "source": [
    "import pandas as pd\n",
    "from tqdm import tqdm\n",
    "\n",
    "# Create an input dataset containing only the transcript column and stripping the PGN header\n",
    "\n",
    "def transform_text(text):\n",
    "    if '\\n\\n' not in text:\n",
    "        return text[:1023]\n",
    "    new_text = text.split('\\n\\n')[1].strip()\n",
    "    return new_text[:1023]\n",
    "\n",
    "# input_file = 'lichess_6gb.csv'\n",
    "input_file = 'stockfish_dataset.csv'\n",
    "output_filename = input_file.replace('.csv', '_blocks.csv')\n"
   ]
  },
  {
   "cell_type": "code",
   "execution_count": null,
   "metadata": {},
   "outputs": [],
   "source": [
    "df = pd.read_csv(input_file, usecols=['transcript'])\n",
    "df['transcript'] = df['transcript'].apply(transform_text)\n",
    "\n",
    "# df.to_csv('input_dataset.csv', index=False)"
   ]
  },
  {
   "cell_type": "code",
   "execution_count": null,
   "metadata": {},
   "outputs": [],
   "source": [
    "import pandas as pd\n",
    "\n",
    "# df = pd.read_csv('input_dataset.csv', usecols=['transcript'])\n",
    "df['length'] = df['transcript'].apply(len)\n",
    "\n",
    "df.sort_values(by='length', inplace=True)\n",
    "# df.to_csv('input_dataset.csv', index=False)"
   ]
  },
  {
   "cell_type": "code",
   "execution_count": null,
   "metadata": {},
   "outputs": [],
   "source": [
    "# import pandas as pd\n",
    "\n",
    "# # Read the CSV file\n",
    "# df = pd.read_csv('input_dataset.csv')\n",
    "\n",
    "# # Randomly sample 10000 rows\n",
    "# sampled_df = df.sample(n=10000)\n",
    "\n",
    "# # Sort the sampled DataFrame by the length of the 'transcript' column\n",
    "# sampled_df.sort_values(by='transcript', key=lambda x: x.str.len(), ascending=True, inplace=True)\n",
    "\n",
    "# # Save the sampled and sorted DataFrame to a new CSV file\n",
    "# sampled_df.to_csv('test_input_dataset.csv', index=False)\n"
   ]
  },
  {
   "cell_type": "code",
   "execution_count": null,
   "metadata": {},
   "outputs": [],
   "source": [
    "import pandas as pd\n",
    "from collections import deque\n",
    "from tqdm import tqdm  # Import tqdm\n",
    "import random\n",
    "\n",
    "# Read the CSV file\n",
    "# df = pd.read_csv('input_dataset.csv')\n",
    "\n",
    "# Prepare the new dataset for blocks\n",
    "blocks = []\n",
    "remaining_games = deque(df['transcript'].tolist())  # Use deque for efficient pops from the left\n",
    "\n",
    "del df\n",
    "\n",
    "original_length = len(remaining_games)  # Store the original length\n",
    "\n",
    "# Block size limit\n",
    "block_size = 1024\n",
    "\n",
    "# Initialize the progress bar\n",
    "with tqdm(total=original_length, desc=\"Processing\") as pbar:\n",
    "    while remaining_games:\n",
    "        block = ';'\n",
    "        # Select the next game\n",
    "        next_game = remaining_games.pop()\n",
    "        block += next_game\n",
    "        while len(block) < block_size and remaining_games:\n",
    "            # if len(df) > 21:\n",
    "            #     random_idx = random.randint(0, 20)\n",
    "            #     next_game = remaining_games[random_idx]\n",
    "            #     remaining_games[random_idx] = \"\"\n",
    "            # else:\n",
    "            next_game = remaining_games.popleft()\n",
    "            block += ';' + next_game\n",
    "            if len(block) > block_size:\n",
    "                # If the game makes the block too long, re-add it to the dataset\n",
    "                if len(remaining_games) > 100:\n",
    "                    remaining_games.insert(99, next_game)\n",
    "                else:\n",
    "                    break\n",
    "                break\n",
    "\n",
    "        if len(block) >= block_size:\n",
    "            # Add the block to the blocks list\n",
    "            blocks.append(block[:block_size])\n",
    "\n",
    "        # Update the progress bar\n",
    "        pbar.update(original_length - len(remaining_games) - pbar.n)\n",
    "\n",
    "# Create a new DataFrame for the blocks\n",
    "df = pd.DataFrame(blocks, columns=['transcript'])\n",
    "\n",
    "# Save the blocks to a new CSV file\n",
    "# df.to_csv(output_filename, index=False)\n"
   ]
  },
  {
   "cell_type": "code",
   "execution_count": null,
   "metadata": {},
   "outputs": [],
   "source": [
    "import pandas as pd\n",
    "\n",
    "# temp_output_filename = \"full2_dataset.csv\"\n",
    "# output_filename = temp_output_filename\n",
    "\n",
    "# df = pd.read_csv(output_filename)\n",
    "df = df.sample(frac=1).reset_index(drop=True)\n",
    "\n",
    "# Save the shuffled DataFrame to the same CSV file\n",
    "df.to_csv(output_filename, index=False)\n",
    "\n",
    "df['length'] = df['transcript'].apply(len)\n",
    "print(df['length'].describe())"
   ]
  }
 ],
 "metadata": {
  "kernelspec": {
   "display_name": "openai",
   "language": "python",
   "name": "python3"
  },
  "language_info": {
   "codemirror_mode": {
    "name": "ipython",
    "version": 3
   },
   "file_extension": ".py",
   "mimetype": "text/x-python",
   "name": "python",
   "nbconvert_exporter": "python",
   "pygments_lexer": "ipython3",
   "version": "3.10.13"
  }
 },
 "nbformat": 4,
 "nbformat_minor": 2
}
