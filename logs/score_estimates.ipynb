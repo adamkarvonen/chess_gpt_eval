{
 "cells": [
  {
   "cell_type": "code",
   "execution_count": 1,
   "metadata": {},
   "outputs": [],
   "source": [
    "import pandas as pd\n",
    "\n",
    "filename = 'test_input_dataset.csv'\n",
    "\n",
    "df = pd.read_csv(filename, usecols=['transcript'])\n",
    "\n",
    "game = df.head(1)"
   ]
  },
  {
   "cell_type": "code",
   "execution_count": 2,
   "metadata": {},
   "outputs": [
    {
     "name": "stdout",
     "output_type": "stream",
     "text": [
      "1.c4 Nf6 2.Nc3 e6 3.d4 d5 4.Nf3 Be7 5.Bf4 O-O 6.e3 Nh5 7.Be5 a6 8.g4 Nf6 9.g5 Nfd7 10.h4 dxc4 11.Bxc4 b5 12.Bd3 Bb7 13.Be4 Nc6 14.Qe2 b4 15.Na4 Na5 16.Bxb7 Nxb7 17.Rd1 Nxe5 18.dxe5 Qe8 19.b3 Na5 20.h5 c5 21.h6 Qb5 22.hxg7 Rfd8 23.Nd2 Qxe2+ 24.Kxe2 c4 25.Nb6 cxb3 26.Nxa8 bxa2 27.Nb6 Kxg7 28.Ra1 b3 29.Nxb3 Nxb3 30.Rxa2 Nc5 31.f4 Ne4 32.Rc1 a5 33.Rc7 Bc5 34.Rb2 Nc3+ 35.Kf3 Bxe3 36.Rxc3 Bd4 37.Rd3 Bxb6 38.Rd6 Bc7 39.Rc6 Rb8 40.Rxb8 Bxb8 41.Ra6 a4 42.Rxa4 Bc7 43.Ra6 Kg6 44.Kg4 Kg7 45.Ra7 Bd8 46.Rd7 Ba5 47.f5 Kg8 48.fxe6 fxe6 49.Kh5 Bb4 50.g6 hxg6+ 51.Kxg6 Kf8 52.Kf6 Ke8 53.Kxe6 Be1 54.Rb7 Kd8 55.Rb3 Kc7 56.Kf7 Bf2 57.Rc3+ Kb6 58.e6 Bh4 59.Rh3 Bd8 60.Rh6 Kb7 61.Rh8 Bg5 62.Rh5 Bf4 63.e7 Bc1 64.Rb5+ Kc7 65.e8=Q Bh6 66.Ke6 Bd2 67.Qd7#\n"
     ]
    }
   ],
   "source": [
    "game = df['transcript'].iloc[3]\n",
    "game = game.split('\\n\\n')[1].strip()\n",
    "print(game)"
   ]
  },
  {
   "cell_type": "code",
   "execution_count": 4,
   "metadata": {},
   "outputs": [],
   "source": [
    "def map_value(evaluation: dict) -> int:\n",
    "    if evaluation['type'] == 'mate':\n",
    "        # for example, 3 would be mate in 3 for white, -2 is mate in 2 for black\n",
    "        if evaluation['value'] > 0:\n",
    "            return 9\n",
    "        else:\n",
    "            return -9\n",
    "    \n",
    "    # if not mate, must be centipawn advantage\n",
    "    value = evaluation['value']\n",
    "\n",
    "    if value > 700:\n",
    "        return 8\n",
    "    elif value < -700:\n",
    "        return -8\n",
    "    original_min, original_max = -700, 700\n",
    "    target_min, target_max = -7, 7\n",
    "\n",
    "    # Calculate the total number of values in each range\n",
    "    original_range = original_max - original_min\n",
    "    target_range = target_max - target_min\n",
    "\n",
    "    # Scale the original value to the target range\n",
    "    scaled_value = ((value - original_min) / original_range) * target_range + target_min\n",
    "\n",
    "    # Round and return the scaled value, making sure it stays within the target range\n",
    "    return str(min(target_max, max(target_min, round(scaled_value))))\n",
    "    \n",
    "def game_over_to_value(board_result: str) -> int:\n",
    "    result_map = {\"1-0\": 9, \"0-1\": -9, \"1/2-1/2\": 0}\n",
    "    return result_map[board_result]\n",
    "\n",
    "# your_list = range(-800, 800, 40)\n",
    "# mapped_list = [map_value({\"type\":\"cp\", \"value\":x}) for x in your_list]\n",
    "\n",
    "# for i in range(len(mapped_list)):\n",
    "#     print(mapped_list[i], your_list[i])"
   ]
  },
  {
   "cell_type": "code",
   "execution_count": 36,
   "metadata": {},
   "outputs": [
    {
     "name": "stdout",
     "output_type": "stream",
     "text": [
      "1-0\n"
     ]
    }
   ],
   "source": [
    "import chess\n",
    "from stockfish import Stockfish\n",
    "import random\n",
    "# Initializing a board\n",
    "moves_string = game\n",
    "# Create a new board\n",
    "board = chess.Board()\n",
    "\n",
    "mac_path = \"stockfish\"\n",
    "# self._engine = chess.engine.SimpleEngine.popen_uci(linux_path)\n",
    "stockfish = Stockfish(mac_path)\n",
    "stockfish.set_depth(9) \n",
    "ten = []\n",
    "\n",
    "# Apply each move to the board\n",
    "for move in moves_string.split():\n",
    "    # Skip move numbers\n",
    "    if '.' in move:\n",
    "        board.push_san(move.split(\".\")[1])\n",
    "    else:\n",
    "        board.push_san(move)\n",
    "\n",
    "    \n",
    "\n",
    "    stockfish.set_fen_position(board.fen())\n",
    "    # Check for checkmate or draw\n",
    "    if board.result() != \"*\":\n",
    "        ten.append(game_over_to_value(board.result()))\n",
    "    else:\n",
    "        evaluation = stockfish.get_evaluation()\n",
    "        # print(f\"Stockfish evaluation after move {move}: {evaluation}\")\n",
    "        # print(evaluation)\n",
    "\n",
    "        ten.append(map_value(evaluation))\n",
    "\n",
    "# Display the board position after the moves\n",
    "print(board.result())"
   ]
  },
  {
   "cell_type": "code",
   "execution_count": 77,
   "metadata": {},
   "outputs": [
    {
     "name": "stdout",
     "output_type": "stream",
     "text": [
      "total time 3.3655645847320557\n",
      ". . . . . . . .\n",
      ". . k Q . . . .\n",
      ". . . . K . . .\n",
      ". R . . . . . .\n",
      ". . . . . . . .\n",
      ". . . . . . . .\n",
      ". . . b . . . .\n",
      ". . . . . . . .\n"
     ]
    }
   ],
   "source": [
    "import chess\n",
    "from stockfish import Stockfish\n",
    "import random\n",
    "import time\n",
    "# Initializing a board\n",
    "moves_string = game\n",
    "# Create a new board\n",
    "board = chess.Board()\n",
    "\n",
    "mac_path = \"stockfish\"\n",
    "# self._engine = chess.engine.SimpleEngine.popen_uci(linux_path)\n",
    "stockfish = Stockfish(mac_path)\n",
    "stockfish.set_depth(10)\n",
    "two = []\n",
    "start_time = time.time()\n",
    "# Apply each move to the board\n",
    "for move in moves_string.split():\n",
    "    # Skip move numbers\n",
    "    if '.' in move:\n",
    "        board.push_san(move.split(\".\")[1])\n",
    "    else:\n",
    "        board.push_san(move)\n",
    "\n",
    "    if random.random() < 01.03:\n",
    "\n",
    "        stockfish.set_fen_position(board.fen())\n",
    "        evaluation = stockfish.get_evaluation()\n",
    "        # print(evaluation)\n",
    "        two.append(map_value(evaluation))\n",
    "\n",
    "end_time = time.time()\n",
    "\n",
    "print(\"total time\", (end_time - start_time))\n",
    "\n",
    "# Display the board position after the moves\n",
    "print(board)"
   ]
  },
  {
   "cell_type": "code",
   "execution_count": 75,
   "metadata": {},
   "outputs": [
    {
     "name": "stdout",
     "output_type": "stream",
     "text": [
      "<class 'str'>\n"
     ]
    }
   ],
   "source": [
    "print(type(two[0]))"
   ]
  },
  {
   "cell_type": "code",
   "execution_count": 78,
   "metadata": {},
   "outputs": [
    {
     "data": {
      "image/png": "[encoded data removed]",
      "text/plain": [
       "<Figure size 640x480 with 1 Axes>"
      ]
     },
     "metadata": {},
     "output_type": "display_data"
    }
   ],
   "source": [
    "import matplotlib.pyplot as plt\n",
    "\n",
    "ten = [int(i) for i in ten]\n",
    "two = [int(i) for i in two]\n",
    "\n",
    "\n",
    "plt.plot(ten, label='ten', color='blue')\n",
    "plt.plot(two, color='red')\n",
    "\n",
    "plt.show()"
   ]
  },
  {
   "cell_type": "code",
   "execution_count": 40,
   "metadata": {},
   "outputs": [],
   "source": [
    "# import matplotlib.pyplot as plt\n",
    "\n",
    "# ten_map = [map_value(x) for x in ten]\n",
    "# two_map = [map_value(x) for x in two]\n",
    "\n",
    "# plt.plot(ten_map, label='ten', color='blue')\n",
    "# plt.plot(two_map, label='Two', color='red')\n",
    "\n",
    "# plt.show()"
   ]
  }
 ],
 "metadata": {
  "kernelspec": {
   "display_name": "openai",
   "language": "python",
   "name": "python3"
  },
  "language_info": {
   "codemirror_mode": {
    "name": "ipython",
    "version": 3
   },
   "file_extension": ".py",
   "mimetype": "text/x-python",
   "name": "python",
   "nbconvert_exporter": "python",
   "pygments_lexer": "ipython3",
   "version": "3.10.13"
  }
 },
 "nbformat": 4,
 "nbformat_minor": 2
}
