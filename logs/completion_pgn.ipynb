{
 "cells": [
  {
   "cell_type": "code",
   "execution_count": null,
   "metadata": {},
   "outputs": [],
   "source": [
    "import pandas as pd\n",
    "import os\n",
    "\n",
    "# concatenate all CSV files in the /data folder into a single CSV file\n",
    "\n",
    "# Path to the data folder\n",
    "data_folder = \"./data/\"\n",
    "\n",
    "# List all files in the data folder with .csv extension\n",
    "files = [os.path.join(data_folder, f) for f in os.listdir(data_folder) if f.endswith('.csv')]\n",
    "\n",
    "# Read and concatenate all CSV files\n",
    "dfs = [pd.read_csv(file) for file in files]\n",
    "combined_df = pd.concat(dfs, ignore_index=True)\n",
    "\n",
    "# Save the combined dataframe to a new CSV\n",
    "combined_df.to_csv('mac_dataset.csv', index=False)\n",
    "\n",
    "print(\"All CSV files in the /data folder have been combined.\")"
   ]
  },
  {
   "cell_type": "code",
   "execution_count": 11,
   "metadata": {},
   "outputs": [
    {
     "name": "stdout",
     "output_type": "stream",
     "text": [
      "Shirov.pgn\n",
      "Nakamura.pgn\n",
      "PolgarS.pgn\n",
      "Adams.pgn\n",
      "Carlsen.pgn\n",
      "Fischer.pgn\n",
      "Nepomniachtchi.pgn\n",
      "Tal.pgn\n",
      "Shulman.pgn\n",
      "Ljubojevic.pgn\n",
      "GurevichD.pgn\n",
      "So.pgn\n",
      "Andersson.pgn\n",
      "VachierLagrave.pgn\n",
      "Karpov.pgn\n",
      "Bologan.pgn\n"
     ]
    }
   ],
   "source": [
    "import re\n",
    "import csv\n",
    "import os\n",
    "\n",
    "def extract_games_from_pgn(filename):\n",
    "    with open(filename, 'r') as file:\n",
    "        data = file.read()\n",
    "\n",
    "    # Regular expression to match the games without the scores\n",
    "    games = re.findall(r'\\b1\\.[^\\[]+?(?=\\s[01]/[012]-[01]/[012])', data, re.DOTALL)\n",
    "\n",
    "    \n",
    "    return games\n",
    "\n",
    "def save_to_csv(games, output_filename):\n",
    "    with open(output_filename, 'w', newline='') as file:\n",
    "        writer = csv.writer(file)\n",
    "        writer.writerow(['completion'])\n",
    "        for game in games:\n",
    "            writer.writerow([game.replace('\\n', ' ')])\n",
    "\n",
    "if __name__ == \"__main__\":\n",
    "    # List all files in the current directory with .pgn extension\n",
    "    pgn_files = [file for file in os.listdir() if file.endswith('.pgn')]\n",
    "    \n",
    "    all_games = []\n",
    "    \n",
    "    # Extract games from each pgn file and add to the all_games list\n",
    "    for pgn_file in pgn_files:\n",
    "        print(pgn_file)\n",
    "        games = extract_games_from_pgn(pgn_file)\n",
    "        all_games.extend(games)\n",
    "    \n",
    "    save_to_csv(all_games, 'games.csv')\n"
   ]
  },
  {
   "cell_type": "code",
   "execution_count": 11,
   "metadata": {},
   "outputs": [
    {
     "name": "stdout",
     "output_type": "stream",
     "text": [
      "count    310.0\n",
      "mean       0.0\n",
      "std        0.0\n",
      "min        0.0\n",
      "25%        0.0\n",
      "50%        0.0\n",
      "75%        0.0\n",
      "max        0.0\n",
      "dtype: float64\n"
     ]
    },
    {
     "data": {
      "image/png": "[encoded data removed]",
      "text/plain": [
       "<Figure size 640x480 with 1 Axes>"
      ]
     },
     "metadata": {},
     "output_type": "display_data"
    }
   ],
   "source": [
    "import csv\n",
    "import pandas as pd\n",
    "import matplotlib.pyplot as plt\n",
    "\n",
    "# Read the CSV file\n",
    "def read_csv(filename):\n",
    "    with open(filename, 'r') as file:\n",
    "        reader = csv.reader(file)\n",
    "        next(reader)  # Skip the header\n",
    "        games = [row[0] for row in reader]\n",
    "    return games\n",
    "\n",
    "# Extract the number of moves from each game\n",
    "def get_moves_count(game):\n",
    "    # Split the game string by spaces and divide by 2 (because every 2 strings represent a move for white and black)\n",
    "    return len(game.split()) // 2\n",
    "\n",
    "# Analyze the distribution of game lengths\n",
    "def analyze_distribution(games):\n",
    "    moves_counts = [get_moves_count(game) for game in games]\n",
    "    \n",
    "    # Use pandas for statistical analysis\n",
    "    series = pd.Series(moves_counts)\n",
    "    print(series.describe())\n",
    "\n",
    "    # Plot the distribution\n",
    "    plt.hist(moves_counts, bins=range(1, series.max() + 2), align='left', edgecolor='black')\n",
    "    plt.xlabel('Number of Moves')\n",
    "    plt.ylabel('Number of Games')\n",
    "    plt.title('Distribution of Game Lengths')\n",
    "    plt.show()\n",
    "\n",
    "if __name__ == \"__main__\":\n",
    "    games = read_csv('games.csv')\n",
    "    analyze_distribution(games)\n"
   ]
  },
  {
   "cell_type": "code",
   "execution_count": 84,
   "metadata": {},
   "outputs": [
    {
     "name": "stdout",
     "output_type": "stream",
     "text": [
      "Conversion complete. Data written to chess_completions2.jsonl\n"
     ]
    }
   ],
   "source": [
    "import pandas as pd\n",
    "import csv\n",
    "import json \n",
    "# File paths\n",
    "csv_path = 'full_dataset.csv'\n",
    "jsonl_path = 'chess_completions2.jsonl'\n",
    "\n",
    "\n",
    "# Load the games.csv file\n",
    "df = pd.read_csv(csv_path)\n",
    "\n",
    "\n",
    "with open(csv_path, 'r') as csv_file, open(jsonl_path, 'w') as jsonl_file:\n",
    "    reader = csv.DictReader(csv_file)\n",
    "\n",
    "    for row in reader:\n",
    "\n",
    "        # Convert to JSON format with \"text\" as key\n",
    "        json_obj = {\"text\": row['transcript']}\n",
    "\n",
    "        # Write to jsonl file\n",
    "        jsonl_file.write(json.dumps(json_obj) + '\\n')\n",
    "\n",
    "print(f\"Conversion complete. Data written to {jsonl_path}\")\n"
   ]
  },
  {
   "cell_type": "code",
   "execution_count": 85,
   "metadata": {},
   "outputs": [
    {
     "name": "stdout",
     "output_type": "stream",
     "text": [
      "Concatenation complete. Check chess_completions.jsonl\n"
     ]
    }
   ],
   "source": [
    "# Concatenate two JSONL files\n",
    "\n",
    "input_files = ['chess_completions1.jsonl', 'chess_completions2.jsonl']\n",
    "output_file = 'chess_completions.jsonl'\n",
    "\n",
    "with open(output_file, 'w') as outfile:\n",
    "    for fname in input_files:\n",
    "        with open(fname) as infile:\n",
    "            for line in infile:\n",
    "                outfile.write(line)\n",
    "\n",
    "print(f\"Concatenation complete. Check {output_file}\")"
   ]
  },
  {
   "cell_type": "code",
   "execution_count": 86,
   "metadata": {},
   "outputs": [],
   "source": [
    "import random\n",
    "\n",
    "# Read all lines from the file\n",
    "with open('chess_completions.jsonl', 'r') as file:\n",
    "    lines = file.readlines()\n",
    "\n",
    "# Shuffle the lines\n",
    "random.shuffle(lines)\n",
    "\n",
    "# Write the shuffled lines back to the file\n",
    "with open('chess_completions.jsonl', 'w') as file:\n",
    "    for line in lines:\n",
    "        file.write(line)"
   ]
  },
  {
   "cell_type": "code",
   "execution_count": 1,
   "metadata": {},
   "outputs": [
    {
     "name": "stdout",
     "output_type": "stream",
     "text": [
      "Moves extracted to chess_owt_2gb.txt\n"
     ]
    }
   ],
   "source": [
    "import json\n",
    "\n",
    "input_filename = \"mixed_chess_owt_2gb.jsonl\"\n",
    "output_filename = \"chess_owt_2gb.txt\"\n",
    "\n",
    "with open(input_filename, 'r') as infile, open(output_filename, 'w') as outfile:\n",
    "    for line in infile:\n",
    "        entry = json.loads(line)\n",
    "        text = entry['text']\n",
    "        outfile.write(text)\n",
    "        outfile.write('\\n')\n",
    "        \n",
    "        # Extracting moves which start after two newline characters\n",
    "        # moves = text.split('\\n\\n')[1].strip()\n",
    "        # outfile.write(moves + '\\n')\n",
    "\n",
    "print(f\"Moves extracted to {output_filename}\")"
   ]
  },
  {
   "cell_type": "code",
   "execution_count": 88,
   "metadata": {},
   "outputs": [
    {
     "name": "stdout",
     "output_type": "stream",
     "text": [
      "The length of the longest line is: 4580\n"
     ]
    }
   ],
   "source": [
    "# Define the path to your file\n",
    "filename = \"chess_moves.txt\"\n",
    "\n",
    "# Initialize the maximum length to 0\n",
    "max_length = 0\n",
    "\n",
    "# Open and read the file line by line\n",
    "with open(filename, 'r') as f:\n",
    "    for line in f:\n",
    "        if len(line) > max_length:\n",
    "            max_length = len(line)\n",
    "\n",
    "print(f\"The length of the longest line is: {max_length}\")\n"
   ]
  },
  {
   "cell_type": "code",
   "execution_count": 95,
   "metadata": {},
   "outputs": [
    {
     "data": {
      "image/png": "[encoded data removed]",
      "text/plain": [
       "<Figure size 640x480 with 1 Axes>"
      ]
     },
     "metadata": {},
     "output_type": "display_data"
    }
   ],
   "source": [
    "import matplotlib.pyplot as plt\n",
    "\n",
    "# Define the path to your file\n",
    "filename = \"chess_moves.txt\"\n",
    "\n",
    "# List to store lengths of lines\n",
    "line_lengths = []\n",
    "\n",
    "# Open and read the file line by line\n",
    "with open(filename, 'r') as f:\n",
    "    for line in f:\n",
    "        line_lengths.append(len(line))\n",
    "\n",
    "# Plotting the histogram\n",
    "plt.hist(line_lengths, bins=50, facecolor='blue', alpha=0.7)\n",
    "plt.title('Histogram of Line Lengths')\n",
    "plt.xlabel('Line Length')\n",
    "plt.ylabel('Number of Lines')\n",
    "plt.grid(True)\n",
    "\n",
    "plt.show()\n"
   ]
  },
  {
   "cell_type": "code",
   "execution_count": 100,
   "metadata": {},
   "outputs": [
    {
     "name": "stdout",
     "output_type": "stream",
     "text": [
      "The length of the entire file is: \n",
      "896958613\n"
     ]
    }
   ],
   "source": [
    "filename = \"chess_moves.txt\"\n",
    "\n",
    "# print the length of the entire file\n",
    "print(\"The length of the entire file is: \")\n",
    "print(len(open(filename).read()))"
   ]
  },
  {
   "cell_type": "code",
   "execution_count": 101,
   "metadata": {},
   "outputs": [
    {
     "name": "stdout",
     "output_type": "stream",
     "text": [
      "1554519\n",
      "File 'chess_moves.txt' has been modified.\n"
     ]
    }
   ],
   "source": [
    "# Define the input file name\n",
    "input_filename = 'chess_moves.txt'\n",
    "\n",
    "# Read all lines into memory\n",
    "with open(input_filename, 'r') as infile:\n",
    "    lines = infile.readlines()\n",
    "print(len(lines))\n",
    "# Modify each line to ensure its content length is <= 1023 characters\n",
    "trimmed_lines = []\n",
    "\n",
    "for line in lines:\n",
    "    if len(line) > 1023:\n",
    "        trimmed_line = line[:1023] + '\\n'\n",
    "    else:\n",
    "        trimmed_line = line\n",
    "    trimmed_lines.append(trimmed_line)\n",
    "\n",
    "# Overwrite the original file with the modified lines\n",
    "with open(input_filename, 'w') as outfile:\n",
    "    outfile.writelines(trimmed_lines)\n",
    "\n",
    "print(f\"File '{input_filename}' has been modified.\")\n"
   ]
  }
 ],
 "metadata": {
  "kernelspec": {
   "display_name": "openai",
   "language": "python",
   "name": "python3"
  },
  "language_info": {
   "codemirror_mode": {
    "name": "ipython",
    "version": 3
   },
   "file_extension": ".py",
   "mimetype": "text/x-python",
   "name": "python",
   "nbconvert_exporter": "python",
   "pygments_lexer": "ipython3",
   "version": "3.10.13"
  },
  "orig_nbformat": 4
 },
 "nbformat": 4,
 "nbformat_minor": 2
}
