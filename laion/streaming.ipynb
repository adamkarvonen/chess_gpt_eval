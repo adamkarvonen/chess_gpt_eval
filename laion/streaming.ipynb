{
 "cells": [
  {
   "cell_type": "code",
   "execution_count": 2,
   "metadata": {},
   "outputs": [
    {
     "name": "stderr",
     "output_type": "stream",
     "text": [
      "Resolving data files: 100%|██████████| 1599/1599 [00:00<00:00, 2373.49it/s]\n"
     ]
    },
    {
     "ename": "KeyboardInterrupt",
     "evalue": "",
     "output_type": "error",
     "traceback": [
      "\u001b[0;31m---------------------------------------------------------------------------\u001b[0m",
      "\u001b[0;31mKeyboardInterrupt\u001b[0m                         Traceback (most recent call last)",
      "\u001b[1;32m/home/adamk/github_chess_gpt_eval/laion/streaming.ipynb Cell 1\u001b[0m line \u001b[0;36m1\n\u001b[1;32m     <a href='vscode-notebook-cell://ssh-remote%2Bvm-37-ee.eic.galois.com/home/adamk/github_chess_gpt_eval/laion/streaming.ipynb#W0sdnNjb2RlLXJlbW90ZQ%3D%3D?line=9'>10</a>\u001b[0m size \u001b[39m=\u001b[39m \u001b[39m0\u001b[39m\n\u001b[1;32m     <a href='vscode-notebook-cell://ssh-remote%2Bvm-37-ee.eic.galois.com/home/adamk/github_chess_gpt_eval/laion/streaming.ipynb#W0sdnNjb2RlLXJlbW90ZQ%3D%3D?line=11'>12</a>\u001b[0m \u001b[39mwith\u001b[39;00m \u001b[39mopen\u001b[39m(output_file_path, \u001b[39m'\u001b[39m\u001b[39mw\u001b[39m\u001b[39m'\u001b[39m) \u001b[39mas\u001b[39;00m output_file:\n\u001b[0;32m---> <a href='vscode-notebook-cell://ssh-remote%2Bvm-37-ee.eic.galois.com/home/adamk/github_chess_gpt_eval/laion/streaming.ipynb#W0sdnNjb2RlLXJlbW90ZQ%3D%3D?line=12'>13</a>\u001b[0m     \u001b[39mfor\u001b[39;00m sample \u001b[39min\u001b[39;00m dataset:\n\u001b[1;32m     <a href='vscode-notebook-cell://ssh-remote%2Bvm-37-ee.eic.galois.com/home/adamk/github_chess_gpt_eval/laion/streaming.ipynb#W0sdnNjb2RlLXJlbW90ZQ%3D%3D?line=13'>14</a>\u001b[0m         \u001b[39m# print(sample)\u001b[39;00m\n\u001b[1;32m     <a href='vscode-notebook-cell://ssh-remote%2Bvm-37-ee.eic.galois.com/home/adamk/github_chess_gpt_eval/laion/streaming.ipynb#W0sdnNjb2RlLXJlbW90ZQ%3D%3D?line=14'>15</a>\u001b[0m         \u001b[39m# Convert the sample to your desired format\u001b[39;00m\n\u001b[1;32m     <a href='vscode-notebook-cell://ssh-remote%2Bvm-37-ee.eic.galois.com/home/adamk/github_chess_gpt_eval/laion/streaming.ipynb#W0sdnNjb2RlLXJlbW90ZQ%3D%3D?line=15'>16</a>\u001b[0m         json_line \u001b[39m=\u001b[39m json\u001b[39m.\u001b[39mdumps({\u001b[39m\"\u001b[39m\u001b[39mtext\u001b[39m\u001b[39m\"\u001b[39m: sample[\u001b[39m\"\u001b[39m\u001b[39mMoves\u001b[39m\u001b[39m\"\u001b[39m]})  \u001b[39m# Assuming the key in the dataset is \"text_field\"\u001b[39;00m\n\u001b[1;32m     <a href='vscode-notebook-cell://ssh-remote%2Bvm-37-ee.eic.galois.com/home/adamk/github_chess_gpt_eval/laion/streaming.ipynb#W0sdnNjb2RlLXJlbW90ZQ%3D%3D?line=17'>18</a>\u001b[0m         \u001b[39m# Write the json line to file\u001b[39;00m\n",
      "File \u001b[0;32m~/miniconda3/envs/openai/lib/python3.10/site-packages/datasets/iterable_dataset.py:1383\u001b[0m, in \u001b[0;36mIterableDataset.__iter__\u001b[0;34m(self)\u001b[0m\n\u001b[1;32m   1379\u001b[0m \u001b[39mfor\u001b[39;00m key, example \u001b[39min\u001b[39;00m ex_iterable:\n\u001b[1;32m   1380\u001b[0m     \u001b[39mif\u001b[39;00m \u001b[39mself\u001b[39m\u001b[39m.\u001b[39mfeatures:\n\u001b[1;32m   1381\u001b[0m         \u001b[39m# `IterableDataset` automatically fills missing columns with None.\u001b[39;00m\n\u001b[1;32m   1382\u001b[0m         \u001b[39m# This is done with `_apply_feature_types_on_example`.\u001b[39;00m\n\u001b[0;32m-> 1383\u001b[0m         example \u001b[39m=\u001b[39m _apply_feature_types_on_example(\n\u001b[1;32m   1384\u001b[0m             example, \u001b[39mself\u001b[39;49m\u001b[39m.\u001b[39;49mfeatures, token_per_repo_id\u001b[39m=\u001b[39;49m\u001b[39mself\u001b[39;49m\u001b[39m.\u001b[39;49m_token_per_repo_id\n\u001b[1;32m   1385\u001b[0m         )\n\u001b[1;32m   1386\u001b[0m     \u001b[39myield\u001b[39;00m format_dict(example) \u001b[39mif\u001b[39;00m format_dict \u001b[39melse\u001b[39;00m example\n",
      "File \u001b[0;32m~/miniconda3/envs/openai/lib/python3.10/site-packages/datasets/iterable_dataset.py:1075\u001b[0m, in \u001b[0;36m_apply_feature_types_on_example\u001b[0;34m(example, features, token_per_repo_id)\u001b[0m\n\u001b[1;32m   1073\u001b[0m         example[column_name] \u001b[39m=\u001b[39m \u001b[39mNone\u001b[39;00m\n\u001b[1;32m   1074\u001b[0m \u001b[39m# we encode the example for ClassLabel feature types for example\u001b[39;00m\n\u001b[0;32m-> 1075\u001b[0m encoded_example \u001b[39m=\u001b[39m features\u001b[39m.\u001b[39;49mencode_example(example)\n\u001b[1;32m   1076\u001b[0m \u001b[39m# Decode example for Audio feature, e.g.\u001b[39;00m\n\u001b[1;32m   1077\u001b[0m decoded_example \u001b[39m=\u001b[39m features\u001b[39m.\u001b[39mdecode_example(encoded_example, token_per_repo_id\u001b[39m=\u001b[39mtoken_per_repo_id)\n",
      "File \u001b[0;32m~/miniconda3/envs/openai/lib/python3.10/site-packages/datasets/features/features.py:1852\u001b[0m, in \u001b[0;36mFeatures.encode_example\u001b[0;34m(self, example)\u001b[0m\n\u001b[1;32m   1841\u001b[0m \u001b[39m\u001b[39m\u001b[39m\"\"\"\u001b[39;00m\n\u001b[1;32m   1842\u001b[0m \u001b[39mEncode example into a format for Arrow.\u001b[39;00m\n\u001b[1;32m   1843\u001b[0m \n\u001b[0;32m   (...)\u001b[0m\n\u001b[1;32m   1849\u001b[0m \u001b[39m    `dict[str, Any]`\u001b[39;00m\n\u001b[1;32m   1850\u001b[0m \u001b[39m\"\"\"\u001b[39;00m\n\u001b[1;32m   1851\u001b[0m example \u001b[39m=\u001b[39m cast_to_python_objects(example)\n\u001b[0;32m-> 1852\u001b[0m \u001b[39mreturn\u001b[39;00m encode_nested_example(\u001b[39mself\u001b[39;49m, example)\n",
      "File \u001b[0;32m~/miniconda3/envs/openai/lib/python3.10/site-packages/datasets/features/features.py:1229\u001b[0m, in \u001b[0;36mencode_nested_example\u001b[0;34m(schema, obj, level)\u001b[0m\n\u001b[1;32m   1226\u001b[0m     \u001b[39mif\u001b[39;00m level \u001b[39m==\u001b[39m \u001b[39m0\u001b[39m \u001b[39mand\u001b[39;00m obj \u001b[39mis\u001b[39;00m \u001b[39mNone\u001b[39;00m:\n\u001b[1;32m   1227\u001b[0m         \u001b[39mraise\u001b[39;00m \u001b[39mValueError\u001b[39;00m(\u001b[39m\"\u001b[39m\u001b[39mGot None but expected a dictionary instead\u001b[39m\u001b[39m\"\u001b[39m)\n\u001b[1;32m   1228\u001b[0m     \u001b[39mreturn\u001b[39;00m (\n\u001b[0;32m-> 1229\u001b[0m         {\n\u001b[1;32m   1230\u001b[0m             k: encode_nested_example(sub_schema, sub_obj, level\u001b[39m=\u001b[39mlevel \u001b[39m+\u001b[39m \u001b[39m1\u001b[39m)\n\u001b[1;32m   1231\u001b[0m             \u001b[39mfor\u001b[39;00m k, (sub_schema, sub_obj) \u001b[39min\u001b[39;00m zip_dict(schema, obj)\n\u001b[1;32m   1232\u001b[0m         }\n\u001b[1;32m   1233\u001b[0m         \u001b[39mif\u001b[39;00m obj \u001b[39mis\u001b[39;00m \u001b[39mnot\u001b[39;00m \u001b[39mNone\u001b[39;00m\n\u001b[1;32m   1234\u001b[0m         \u001b[39melse\u001b[39;00m \u001b[39mNone\u001b[39;00m\n\u001b[1;32m   1235\u001b[0m     )\n\u001b[1;32m   1237\u001b[0m \u001b[39melif\u001b[39;00m \u001b[39misinstance\u001b[39m(schema, (\u001b[39mlist\u001b[39m, \u001b[39mtuple\u001b[39m)):\n\u001b[1;32m   1238\u001b[0m     sub_schema \u001b[39m=\u001b[39m schema[\u001b[39m0\u001b[39m]\n",
      "File \u001b[0;32m~/miniconda3/envs/openai/lib/python3.10/site-packages/datasets/features/features.py:1230\u001b[0m, in \u001b[0;36m<dictcomp>\u001b[0;34m(.0)\u001b[0m\n\u001b[1;32m   1226\u001b[0m     \u001b[39mif\u001b[39;00m level \u001b[39m==\u001b[39m \u001b[39m0\u001b[39m \u001b[39mand\u001b[39;00m obj \u001b[39mis\u001b[39;00m \u001b[39mNone\u001b[39;00m:\n\u001b[1;32m   1227\u001b[0m         \u001b[39mraise\u001b[39;00m \u001b[39mValueError\u001b[39;00m(\u001b[39m\"\u001b[39m\u001b[39mGot None but expected a dictionary instead\u001b[39m\u001b[39m\"\u001b[39m)\n\u001b[1;32m   1228\u001b[0m     \u001b[39mreturn\u001b[39;00m (\n\u001b[1;32m   1229\u001b[0m         {\n\u001b[0;32m-> 1230\u001b[0m             k: encode_nested_example(sub_schema, sub_obj, level\u001b[39m=\u001b[39;49mlevel \u001b[39m+\u001b[39;49m \u001b[39m1\u001b[39;49m)\n\u001b[1;32m   1231\u001b[0m             \u001b[39mfor\u001b[39;00m k, (sub_schema, sub_obj) \u001b[39min\u001b[39;00m zip_dict(schema, obj)\n\u001b[1;32m   1232\u001b[0m         }\n\u001b[1;32m   1233\u001b[0m         \u001b[39mif\u001b[39;00m obj \u001b[39mis\u001b[39;00m \u001b[39mnot\u001b[39;00m \u001b[39mNone\u001b[39;00m\n\u001b[1;32m   1234\u001b[0m         \u001b[39melse\u001b[39;00m \u001b[39mNone\u001b[39;00m\n\u001b[1;32m   1235\u001b[0m     )\n\u001b[1;32m   1237\u001b[0m \u001b[39melif\u001b[39;00m \u001b[39misinstance\u001b[39m(schema, (\u001b[39mlist\u001b[39m, \u001b[39mtuple\u001b[39m)):\n\u001b[1;32m   1238\u001b[0m     sub_schema \u001b[39m=\u001b[39m schema[\u001b[39m0\u001b[39m]\n",
      "File \u001b[0;32m~/miniconda3/envs/openai/lib/python3.10/site-packages/datasets/features/features.py:1279\u001b[0m, in \u001b[0;36mencode_nested_example\u001b[0;34m(schema, obj, level)\u001b[0m\n\u001b[1;32m   1274\u001b[0m             \u001b[39m# be careful when comparing tensors here\u001b[39;00m\n\u001b[1;32m   1275\u001b[0m             \u001b[39mif\u001b[39;00m (\n\u001b[1;32m   1276\u001b[0m                 \u001b[39mnot\u001b[39;00m \u001b[39misinstance\u001b[39m(first_elmt, \u001b[39mlist\u001b[39m)\n\u001b[1;32m   1277\u001b[0m                 \u001b[39mor\u001b[39;00m encode_nested_example(schema\u001b[39m.\u001b[39mfeature, first_elmt, level\u001b[39m=\u001b[39mlevel \u001b[39m+\u001b[39m \u001b[39m1\u001b[39m) \u001b[39m!=\u001b[39m first_elmt\n\u001b[1;32m   1278\u001b[0m             ):\n\u001b[0;32m-> 1279\u001b[0m                 \u001b[39mreturn\u001b[39;00m [encode_nested_example(schema\u001b[39m.\u001b[39mfeature, o, level\u001b[39m=\u001b[39mlevel \u001b[39m+\u001b[39m \u001b[39m1\u001b[39m) \u001b[39mfor\u001b[39;00m o \u001b[39min\u001b[39;00m obj]\n\u001b[1;32m   1280\u001b[0m         \u001b[39mreturn\u001b[39;00m \u001b[39mlist\u001b[39m(obj)\n\u001b[1;32m   1281\u001b[0m \u001b[39m# Object with special encoding:\u001b[39;00m\n\u001b[1;32m   1282\u001b[0m \u001b[39m# ClassLabel will convert from string to int, TranslationVariableLanguages does some checks\u001b[39;00m\n",
      "File \u001b[0;32m~/miniconda3/envs/openai/lib/python3.10/site-packages/datasets/features/features.py:1279\u001b[0m, in \u001b[0;36m<listcomp>\u001b[0;34m(.0)\u001b[0m\n\u001b[1;32m   1274\u001b[0m             \u001b[39m# be careful when comparing tensors here\u001b[39;00m\n\u001b[1;32m   1275\u001b[0m             \u001b[39mif\u001b[39;00m (\n\u001b[1;32m   1276\u001b[0m                 \u001b[39mnot\u001b[39;00m \u001b[39misinstance\u001b[39m(first_elmt, \u001b[39mlist\u001b[39m)\n\u001b[1;32m   1277\u001b[0m                 \u001b[39mor\u001b[39;00m encode_nested_example(schema\u001b[39m.\u001b[39mfeature, first_elmt, level\u001b[39m=\u001b[39mlevel \u001b[39m+\u001b[39m \u001b[39m1\u001b[39m) \u001b[39m!=\u001b[39m first_elmt\n\u001b[1;32m   1278\u001b[0m             ):\n\u001b[0;32m-> 1279\u001b[0m                 \u001b[39mreturn\u001b[39;00m [encode_nested_example(schema\u001b[39m.\u001b[39;49mfeature, o, level\u001b[39m=\u001b[39;49mlevel \u001b[39m+\u001b[39;49m \u001b[39m1\u001b[39;49m) \u001b[39mfor\u001b[39;00m o \u001b[39min\u001b[39;00m obj]\n\u001b[1;32m   1280\u001b[0m         \u001b[39mreturn\u001b[39;00m \u001b[39mlist\u001b[39m(obj)\n\u001b[1;32m   1281\u001b[0m \u001b[39m# Object with special encoding:\u001b[39;00m\n\u001b[1;32m   1282\u001b[0m \u001b[39m# ClassLabel will convert from string to int, TranslationVariableLanguages does some checks\u001b[39;00m\n",
      "File \u001b[0;32m~/miniconda3/envs/openai/lib/python3.10/site-packages/datasets/features/features.py:1284\u001b[0m, in \u001b[0;36mencode_nested_example\u001b[0;34m(schema, obj, level)\u001b[0m\n\u001b[1;32m   1281\u001b[0m \u001b[39m# Object with special encoding:\u001b[39;00m\n\u001b[1;32m   1282\u001b[0m \u001b[39m# ClassLabel will convert from string to int, TranslationVariableLanguages does some checks\u001b[39;00m\n\u001b[1;32m   1283\u001b[0m \u001b[39melif\u001b[39;00m \u001b[39misinstance\u001b[39m(schema, (Audio, Image, ClassLabel, TranslationVariableLanguages, Value, _ArrayXD)):\n\u001b[0;32m-> 1284\u001b[0m     \u001b[39mreturn\u001b[39;00m schema\u001b[39m.\u001b[39;49mencode_example(obj) \u001b[39mif\u001b[39;00m obj \u001b[39mis\u001b[39;00m \u001b[39mnot\u001b[39;00m \u001b[39mNone\u001b[39;00m \u001b[39melse\u001b[39;00m \u001b[39mNone\u001b[39;00m\n\u001b[1;32m   1285\u001b[0m \u001b[39m# Other object should be directly convertible to a native Arrow type (like Translation and Translation)\u001b[39;00m\n\u001b[1;32m   1286\u001b[0m \u001b[39mreturn\u001b[39;00m obj\n",
      "File \u001b[0;32m~/miniconda3/envs/openai/lib/python3.10/site-packages/datasets/features/features.py:512\u001b[0m, in \u001b[0;36mValue.encode_example\u001b[0;34m(self, value)\u001b[0m\n\u001b[1;32m    510\u001b[0m \u001b[39mif\u001b[39;00m pa\u001b[39m.\u001b[39mtypes\u001b[39m.\u001b[39mis_boolean(\u001b[39mself\u001b[39m\u001b[39m.\u001b[39mpa_type):\n\u001b[1;32m    511\u001b[0m     \u001b[39mreturn\u001b[39;00m \u001b[39mbool\u001b[39m(value)\n\u001b[0;32m--> 512\u001b[0m \u001b[39melif\u001b[39;00m pa\u001b[39m.\u001b[39;49mtypes\u001b[39m.\u001b[39;49mis_integer(\u001b[39mself\u001b[39;49m\u001b[39m.\u001b[39;49mpa_type):\n\u001b[1;32m    513\u001b[0m     \u001b[39mreturn\u001b[39;00m \u001b[39mint\u001b[39m(value)\n\u001b[1;32m    514\u001b[0m \u001b[39melif\u001b[39;00m pa\u001b[39m.\u001b[39mtypes\u001b[39m.\u001b[39mis_floating(\u001b[39mself\u001b[39m\u001b[39m.\u001b[39mpa_type):\n",
      "File \u001b[0;32m~/miniconda3/envs/openai/lib/python3.10/site-packages/pyarrow/types.py:64\u001b[0m, in \u001b[0;36mis_integer\u001b[0;34m(t)\u001b[0m\n\u001b[1;32m     59\u001b[0m \u001b[39m@doc\u001b[39m(is_null, datatype\u001b[39m=\u001b[39m\u001b[39m\"\u001b[39m\u001b[39mboolean\u001b[39m\u001b[39m\"\u001b[39m)\n\u001b[1;32m     60\u001b[0m \u001b[39mdef\u001b[39;00m \u001b[39mis_boolean\u001b[39m(t):\n\u001b[1;32m     61\u001b[0m     \u001b[39mreturn\u001b[39;00m t\u001b[39m.\u001b[39mid \u001b[39m==\u001b[39m lib\u001b[39m.\u001b[39mType_BOOL\n\u001b[0;32m---> 64\u001b[0m \u001b[39m@doc\u001b[39m(is_null, datatype\u001b[39m=\u001b[39m\u001b[39m\"\u001b[39m\u001b[39many integer\u001b[39m\u001b[39m\"\u001b[39m)\n\u001b[1;32m     65\u001b[0m \u001b[39mdef\u001b[39;00m \u001b[39mis_integer\u001b[39m(t):\n\u001b[1;32m     66\u001b[0m     \u001b[39mreturn\u001b[39;00m t\u001b[39m.\u001b[39mid \u001b[39min\u001b[39;00m _INTEGER_TYPES\n\u001b[1;32m     69\u001b[0m \u001b[39m@doc\u001b[39m(is_null, datatype\u001b[39m=\u001b[39m\u001b[39m\"\u001b[39m\u001b[39msigned integer\u001b[39m\u001b[39m\"\u001b[39m)\n\u001b[1;32m     70\u001b[0m \u001b[39mdef\u001b[39;00m \u001b[39mis_signed_integer\u001b[39m(t):\n",
      "\u001b[0;31mKeyboardInterrupt\u001b[0m: "
     ]
    }
   ],
   "source": [
    "from datasets import load_dataset\n",
    "import json\n",
    "import os\n",
    "\n",
    "# Initialize streaming\n",
    "dataset_name = 'laion/strategic_game_chess'  # Replace with the name of your dataset\n",
    "dataset = load_dataset(dataset_name, split='train', streaming=True)\n",
    "\n",
    "output_file_path = '6gb_chess.jsonl'\n",
    "size = 0\n",
    "\n",
    "with open(output_file_path, 'w') as output_file:\n",
    "    for sample in dataset:\n",
    "        # print(sample)\n",
    "        # Convert the sample to your desired format\n",
    "        json_line = json.dumps({\"text\": sample[\"Moves\"]})  # Assuming the key in the dataset is \"text_field\"\n",
    "        \n",
    "        # Write the json line to file\n",
    "        output_file.write(json_line + '\\n')\n",
    "        \n",
    "        # Monitor the file size\n",
    "        size += len(json_line.encode('utf-8'))\n",
    "        if size >= 1e9:  # Approximately 1GB\n",
    "            break\n"
   ]
  },
  {
   "cell_type": "code",
   "execution_count": null,
   "metadata": {},
   "outputs": [
    {
     "name": "stdout",
     "output_type": "stream",
     "text": [
      "f09\n"
     ]
    }
   ],
   "source": [
    "output_file_path = '1gb_chess.jsonl'\n",
    "with open(output_file_path, 'r') as f:\n",
    "    first_line = f.readline()\n",
    "    print(first_line.strip())"
   ]
  }
 ],
 "metadata": {
  "kernelspec": {
   "display_name": "openai",
   "language": "python",
   "name": "python3"
  },
  "language_info": {
   "codemirror_mode": {
    "name": "ipython",
    "version": 3
   },
   "file_extension": ".py",
   "mimetype": "text/x-python",
   "name": "python",
   "nbconvert_exporter": "python",
   "pygments_lexer": "ipython3",
   "version": "3.10.13"
  }
 },
 "nbformat": 4,
 "nbformat_minor": 2
}
